{
  "nbformat": 4,
  "nbformat_minor": 0,
  "metadata": {
    "colab": {
      "name": "Assignment 6",
      "provenance": []
    },
    "kernelspec": {
      "name": "python3",
      "display_name": "Python 3"
    }
  },
  "cells": [
    {
      "cell_type": "code",
      "metadata": {
        "id": "qCJYyCdKmczN",
        "colab_type": "code",
        "colab": {
          "base_uri": "https://localhost:8080/",
          "height": 67
        },
        "outputId": "c4a40e7b-bb6d-4fc0-fd77-3c6ba3a23b22"
      },
      "source": [
        "print(\"Enter 'x' for exit.\");\n",
        "binary = input(\"Enter number in Binary Format: \");\n",
        "if binary == 'x':\n",
        "    exit();\n",
        "else:\n",
        "    decimal = int(binary, 2);\n",
        "    print(binary,\"in Decimal =\",decimal);"
      ],
      "execution_count": 7,
      "outputs": [
        {
          "output_type": "stream",
          "text": [
            "Enter 'x' for exit.\n",
            "Enter number in Binary Format: 101001\n",
            "101001 in Decimal = 41\n"
          ],
          "name": "stdout"
        }
      ]
    },
    {
      "cell_type": "code",
      "metadata": {
        "id": "sbv7D2JXmqEt",
        "colab_type": "code",
        "colab": {
          "base_uri": "https://localhost:8080/",
          "height": 50
        },
        "outputId": "9ced7bb5-389c-4988-9900-f4b5e7b5fbc6"
      },
      "source": [
        "def Fibonacci(n): \n",
        "    if n<0: \n",
        "        print(\"Incorrect input\") \n",
        "    # First Fibonacci number is 0 \n",
        "    elif n==1: \n",
        "        return 0\n",
        "    # Second Fibonacci number is 1 \n",
        "    elif n==2: \n",
        "        return 1\n",
        "    else: \n",
        "        return Fibonacci(n-1)+Fibonacci(n-2) \n",
        "a=int(input())\n",
        "print(Fibonacci(a))"
      ],
      "execution_count": 10,
      "outputs": [
        {
          "output_type": "stream",
          "text": [
            "5\n",
            "3\n"
          ],
          "name": "stdout"
        }
      ]
    },
    {
      "cell_type": "code",
      "metadata": {
        "id": "7l2udw-lnUF4",
        "colab_type": "code",
        "colab": {
          "base_uri": "https://localhost:8080/",
          "height": 202
        },
        "outputId": "a63d852b-7389-4362-a027-9a4bb04fa1ca"
      },
      "source": [
        "num=int(input())\n",
        "for i in range(1, 11):\n",
        "   print(num, 'x', i, '=', num*i)"
      ],
      "execution_count": 11,
      "outputs": [
        {
          "output_type": "stream",
          "text": [
            "9\n",
            "9 x 1 = 9\n",
            "9 x 2 = 18\n",
            "9 x 3 = 27\n",
            "9 x 4 = 36\n",
            "9 x 5 = 45\n",
            "9 x 6 = 54\n",
            "9 x 7 = 63\n",
            "9 x 8 = 72\n",
            "9 x 9 = 81\n",
            "9 x 10 = 90\n"
          ],
          "name": "stdout"
        }
      ]
    },
    {
      "cell_type": "code",
      "metadata": {
        "id": "uy3mRAdwn2zH",
        "colab_type": "code",
        "colab": {
          "base_uri": "https://localhost:8080/",
          "height": 34
        },
        "outputId": "7cd49b25-c913-4ddc-9a04-656040a20176"
      },
      "source": [
        "def compute_hcf(x, y):\n",
        "  if x > y:\n",
        "        smaller = y\n",
        "  else:\n",
        "        smaller = x\n",
        "  for i in range(1, smaller+1):\n",
        "        if((x % i == 0) and (y % i == 0)):\n",
        "            hcf = i \n",
        "  return hcf\n",
        "\n",
        "num1 = 54 \n",
        "num2 = 24\n",
        "\n",
        "print(\"The H.C.F. is\", compute_hcf(num1, num2))"
      ],
      "execution_count": 15,
      "outputs": [
        {
          "output_type": "stream",
          "text": [
            "The H.C.F. is 6\n"
          ],
          "name": "stdout"
        }
      ]
    },
    {
      "cell_type": "code",
      "metadata": {
        "id": "pVNArf4CovRn",
        "colab_type": "code",
        "colab": {}
      },
      "source": [
        ""
      ],
      "execution_count": null,
      "outputs": []
    }
  ]
}